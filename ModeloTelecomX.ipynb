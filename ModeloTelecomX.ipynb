{
 "cells": [
  {
   "cell_type": "markdown",
   "id": "84d91082",
   "metadata": {},
   "source": [
    "# TelecomX - Modelo para previnir evasão"
   ]
  },
  {
   "cell_type": "markdown",
   "id": "29dc8571",
   "metadata": {},
   "source": [
    "## Blibiotecas"
   ]
  },
  {
   "cell_type": "code",
   "execution_count": 1,
   "id": "3640d485",
   "metadata": {},
   "outputs": [],
   "source": [
    "import pandas as pd\n",
    "import numpy as np\n",
    "import matplotlib.pyplot as plt\n",
    "from sklearn.model_selection import train_test_split\n",
    "from sklearn.dummy import DummyRegressor\n",
    "from sklearn.metrics import root_mean_squared_error, mean_absolute_error, r2_score, accuracy_score, classification_report, confusion_matrix\n",
    "from sklearn.ensemble import RandomForestRegressor\n",
    "from sklearn.model_selection import GridSearchCV, KFold, cross_validate\n",
    "from sklearn.compose import make_column_transformer\n",
    "from sklearn.preprocessing import OneHotEncoder, LabelEncoder, StandardScaler\n",
    "from category_encoders import TargetEncoder\n",
    "from sklearn.preprocessing import FunctionTransformer\n",
    "from sklearn.pipeline import make_pipeline\n",
    "import seaborn as sns"
   ]
  },
  {
   "cell_type": "markdown",
   "id": "e3e63b4f",
   "metadata": {},
   "source": [
    "## Importação dados"
   ]
  },
  {
   "cell_type": "code",
   "execution_count": 2,
   "id": "8b9faa7e",
   "metadata": {},
   "outputs": [],
   "source": [
    "dados = pd.read_csv('Dados.csv')\n",
    "dados['Charges.Total'] = dados['Charges.Total'].replace(r'^\\s*$', 0, regex=True)\n",
    "dados['Charges.Total'] = dados['Charges.Total'].astype(\"float64\")\n",
    "dados = dados[~dados['Churn'].isna() & (dados['Churn'] != 'nan')]\n",
    "dados = dados.drop(columns=['Unnamed: 0', 'PaperlessBilling'])\n",
    "dados = dados[~dados['Churn'].isna() & (dados['Churn'] != 'nan')]\n"
   ]
  },
  {
   "cell_type": "code",
   "execution_count": 3,
   "id": "fbc27410",
   "metadata": {},
   "outputs": [
    {
     "data": {
      "text/html": [
       "<div>\n",
       "<style scoped>\n",
       "    .dataframe tbody tr th:only-of-type {\n",
       "        vertical-align: middle;\n",
       "    }\n",
       "\n",
       "    .dataframe tbody tr th {\n",
       "        vertical-align: top;\n",
       "    }\n",
       "\n",
       "    .dataframe thead th {\n",
       "        text-align: right;\n",
       "    }\n",
       "</style>\n",
       "<table border=\"1\" class=\"dataframe\">\n",
       "  <thead>\n",
       "    <tr style=\"text-align: right;\">\n",
       "      <th></th>\n",
       "      <th>SeniorCitizen</th>\n",
       "      <th>tenure</th>\n",
       "      <th>Charges.Monthly</th>\n",
       "      <th>Charges.Total</th>\n",
       "    </tr>\n",
       "  </thead>\n",
       "  <tbody>\n",
       "    <tr>\n",
       "      <th>SeniorCitizen</th>\n",
       "      <td>1.000000</td>\n",
       "      <td>0.016567</td>\n",
       "      <td>0.220173</td>\n",
       "      <td>0.103006</td>\n",
       "    </tr>\n",
       "    <tr>\n",
       "      <th>tenure</th>\n",
       "      <td>0.016567</td>\n",
       "      <td>1.000000</td>\n",
       "      <td>0.247900</td>\n",
       "      <td>0.826178</td>\n",
       "    </tr>\n",
       "    <tr>\n",
       "      <th>Charges.Monthly</th>\n",
       "      <td>0.220173</td>\n",
       "      <td>0.247900</td>\n",
       "      <td>1.000000</td>\n",
       "      <td>0.651174</td>\n",
       "    </tr>\n",
       "    <tr>\n",
       "      <th>Charges.Total</th>\n",
       "      <td>0.103006</td>\n",
       "      <td>0.826178</td>\n",
       "      <td>0.651174</td>\n",
       "      <td>1.000000</td>\n",
       "    </tr>\n",
       "  </tbody>\n",
       "</table>\n",
       "</div>"
      ],
      "text/plain": [
       "                 SeniorCitizen    tenure  Charges.Monthly  Charges.Total\n",
       "SeniorCitizen         1.000000  0.016567         0.220173       0.103006\n",
       "tenure                0.016567  1.000000         0.247900       0.826178\n",
       "Charges.Monthly       0.220173  0.247900         1.000000       0.651174\n",
       "Charges.Total         0.103006  0.826178         0.651174       1.000000"
      ]
     },
     "execution_count": 3,
     "metadata": {},
     "output_type": "execute_result"
    }
   ],
   "source": [
    "dados_numericos = dados.select_dtypes(include=['number', 'bool'])\n",
    "correlacao = dados_numericos.corr().abs()\n",
    "correlacao"
   ]
  },
  {
   "cell_type": "markdown",
   "id": "0515eb94",
   "metadata": {},
   "source": [
    "### Tratamento"
   ]
  },
  {
   "cell_type": "code",
   "execution_count": 4,
   "id": "4a51deab",
   "metadata": {},
   "outputs": [
    {
     "name": "stdout",
     "output_type": "stream",
     "text": [
      "\n",
      "Frequência de valores em: MultipleLines\n",
      "MultipleLines\n",
      "No                  3390\n",
      "Yes                 2971\n",
      "No phone service     682\n",
      "Name: count, dtype: int64\n",
      "\n",
      "Frequência de valores em: InternetService\n",
      "InternetService\n",
      "Fiber optic    3096\n",
      "DSL            2421\n",
      "No             1526\n",
      "Name: count, dtype: int64\n",
      "\n",
      "Frequência de valores em: OnlineSecurity\n",
      "OnlineSecurity\n",
      "No                     3498\n",
      "Yes                    2019\n",
      "No internet service    1526\n",
      "Name: count, dtype: int64\n",
      "\n",
      "Frequência de valores em: OnlineBackup\n",
      "OnlineBackup\n",
      "No                     3088\n",
      "Yes                    2429\n",
      "No internet service    1526\n",
      "Name: count, dtype: int64\n",
      "\n",
      "Frequência de valores em: DeviceProtection\n",
      "DeviceProtection\n",
      "No                     3095\n",
      "Yes                    2422\n",
      "No internet service    1526\n",
      "Name: count, dtype: int64\n",
      "\n",
      "Frequência de valores em: TechSupport\n",
      "TechSupport\n",
      "No                     3473\n",
      "Yes                    2044\n",
      "No internet service    1526\n",
      "Name: count, dtype: int64\n",
      "\n",
      "Frequência de valores em: StreamingTV\n",
      "StreamingTV\n",
      "No                     2810\n",
      "Yes                    2707\n",
      "No internet service    1526\n",
      "Name: count, dtype: int64\n",
      "\n",
      "Frequência de valores em: StreamingMovies\n",
      "StreamingMovies\n",
      "No                     2785\n",
      "Yes                    2732\n",
      "No internet service    1526\n",
      "Name: count, dtype: int64\n"
     ]
    }
   ],
   "source": [
    "variaveis = [\n",
    "    'MultipleLines',\n",
    "    'InternetService',\n",
    "    'OnlineSecurity',\n",
    "    'OnlineBackup',\n",
    "    'DeviceProtection',\n",
    "    'TechSupport',\n",
    "    'StreamingTV',\n",
    "    'StreamingMovies'\n",
    "]\n",
    "\n",
    "for coluna in variaveis:\n",
    "    print(f\"\\nFrequência de valores em: {coluna}\")\n",
    "    print(dados[coluna].value_counts())\n"
   ]
  },
  {
   "cell_type": "code",
   "execution_count": 5,
   "id": "ebcaecdf",
   "metadata": {},
   "outputs": [
    {
     "name": "stdout",
     "output_type": "stream",
     "text": [
      "\n",
      "Frequência de valores em: PaymentMethod\n",
      "PaymentMethod\n",
      "Electronic check             2365\n",
      "Mailed check                 1612\n",
      "Bank transfer (automatic)    1544\n",
      "Credit card (automatic)      1522\n",
      "Name: count, dtype: int64\n"
     ]
    }
   ],
   "source": [
    "variaveis = [\n",
    "    'PaymentMethod'\n",
    "\n",
    "]\n",
    "\n",
    "for coluna in variaveis:\n",
    "    print(f\"\\nFrequência de valores em: {coluna}\")\n",
    "    print(dados[coluna].value_counts())"
   ]
  },
  {
   "cell_type": "code",
   "execution_count": 6,
   "id": "02625dd4",
   "metadata": {},
   "outputs": [],
   "source": [
    "dadost = dados.copy()"
   ]
  },
  {
   "cell_type": "code",
   "execution_count": 7,
   "id": "c611ae24",
   "metadata": {},
   "outputs": [
    {
     "data": {
      "text/html": [
       "<div>\n",
       "<style scoped>\n",
       "    .dataframe tbody tr th:only-of-type {\n",
       "        vertical-align: middle;\n",
       "    }\n",
       "\n",
       "    .dataframe tbody tr th {\n",
       "        vertical-align: top;\n",
       "    }\n",
       "\n",
       "    .dataframe thead th {\n",
       "        text-align: right;\n",
       "    }\n",
       "</style>\n",
       "<table border=\"1\" class=\"dataframe\">\n",
       "  <thead>\n",
       "    <tr style=\"text-align: right;\">\n",
       "      <th></th>\n",
       "      <th>SeniorCitizen</th>\n",
       "      <th>tenure</th>\n",
       "      <th>Charges.Monthly</th>\n",
       "      <th>Charges.Total</th>\n",
       "    </tr>\n",
       "  </thead>\n",
       "  <tbody>\n",
       "    <tr>\n",
       "      <th>SeniorCitizen</th>\n",
       "      <td>1.000000</td>\n",
       "      <td>0.016567</td>\n",
       "      <td>0.220173</td>\n",
       "      <td>0.103006</td>\n",
       "    </tr>\n",
       "    <tr>\n",
       "      <th>tenure</th>\n",
       "      <td>0.016567</td>\n",
       "      <td>1.000000</td>\n",
       "      <td>0.247900</td>\n",
       "      <td>0.826178</td>\n",
       "    </tr>\n",
       "    <tr>\n",
       "      <th>Charges.Monthly</th>\n",
       "      <td>0.220173</td>\n",
       "      <td>0.247900</td>\n",
       "      <td>1.000000</td>\n",
       "      <td>0.651174</td>\n",
       "    </tr>\n",
       "    <tr>\n",
       "      <th>Charges.Total</th>\n",
       "      <td>0.103006</td>\n",
       "      <td>0.826178</td>\n",
       "      <td>0.651174</td>\n",
       "      <td>1.000000</td>\n",
       "    </tr>\n",
       "  </tbody>\n",
       "</table>\n",
       "</div>"
      ],
      "text/plain": [
       "                 SeniorCitizen    tenure  Charges.Monthly  Charges.Total\n",
       "SeniorCitizen         1.000000  0.016567         0.220173       0.103006\n",
       "tenure                0.016567  1.000000         0.247900       0.826178\n",
       "Charges.Monthly       0.220173  0.247900         1.000000       0.651174\n",
       "Charges.Total         0.103006  0.826178         0.651174       1.000000"
      ]
     },
     "execution_count": 7,
     "metadata": {},
     "output_type": "execute_result"
    }
   ],
   "source": [
    "dados_numericos = dadost.select_dtypes(include=['number', 'bool'])\n",
    "dados_numericos.corr()"
   ]
  },
  {
   "cell_type": "markdown",
   "id": "38e75cd7",
   "metadata": {},
   "source": [
    "## Encording - Pipeline"
   ]
  },
  {
   "cell_type": "code",
   "execution_count": 8,
   "id": "9637df66",
   "metadata": {},
   "outputs": [],
   "source": [
    "y = dadost['Churn']\n",
    "x = dadost.drop(columns=\"Churn\")\n",
    "colunas = x.columns"
   ]
  },
  {
   "cell_type": "code",
   "execution_count": 9,
   "id": "953430b0",
   "metadata": {},
   "outputs": [],
   "source": [
    "def transformar_dados(x):\n",
    "    # Contar serviços com \"Yes\"\n",
    "    variaveis_internet = ['OnlineSecurity', 'OnlineBackup', 'DeviceProtection', 'TechSupport', 'StreamingTV', 'StreamingMovies']\n",
    "    x['serviços_internet'] = x[variaveis_internet].apply(lambda linha: sum(valor == 'Yes' for valor in linha), axis=1)\n",
    "    \n",
    "    # Criar anos de contrato\n",
    "    x['anos_contratado'] = x['tenure'].apply(lambda x: x // 12)\n",
    "    \n",
    "    return x\n",
    "\n",
    "\n",
    "# Encapsula a função num transformer\n",
    "custom_transform = FunctionTransformer(transformar_dados)\n",
    "\n",
    "transformer = make_column_transformer(\n",
    "    # Codificação categórica com TargetEncoder\n",
    "    (OneHotEncoder(), ['gender', 'Partner', 'Dependents', 'Contract',\n",
    "                       'PaymentMethod', 'PhoneService', 'MultipleLines',\n",
    "                       'InternetService', 'OnlineSecurity', 'OnlineBackup',\n",
    "                       'DeviceProtection', 'TechSupport', 'StreamingTV',\n",
    "                       'StreamingMovies']),\n",
    "    \n",
    "    # Padronização das variáveis numéricas\n",
    "    (StandardScaler(), [\"anos_contratado\", 'serviços_internet', 'tenure', 'Charges.Monthly', 'Charges.Total']),\n",
    "    \n",
    "    remainder='passthrough'\n",
    ")\n",
    "label_encoder = LabelEncoder()\n",
    "y = label_encoder.fit_transform(y)"
   ]
  },
  {
   "cell_type": "code",
   "execution_count": 10,
   "id": "a4286b98",
   "metadata": {},
   "outputs": [],
   "source": [
    "def transformaçao(modelo):\n",
    "    pipeline = make_pipeline(\n",
    "    custom_transform,        # ← Transformações manuais\n",
    "    transformer,             # ← ColumnTransformer com TargetEncoder + Scaler\n",
    "    modelo            # ← Modelo\n",
    ") \n",
    "    return pipeline"
   ]
  },
  {
   "cell_type": "markdown",
   "id": "70407b43",
   "metadata": {},
   "source": [
    "## Modelo"
   ]
  },
  {
   "cell_type": "markdown",
   "id": "e20ba263",
   "metadata": {},
   "source": [
    "### Metricas - **Recall (Revocação)**, **Precisão**, **F1-Score**"
   ]
  },
  {
   "cell_type": "code",
   "execution_count": 11,
   "id": "8d1a22b2",
   "metadata": {},
   "outputs": [
    {
     "name": "stdout",
     "output_type": "stream",
     "text": [
      "Treinando o modelo de Regressão Logística com solver 'liblinear'...\n",
      "Treinamento concluído!\n"
     ]
    }
   ],
   "source": [
    "X_train, X_test, y_train, y_test = train_test_split(x, y)\n",
    "# Importando o modelo\n",
    "from sklearn.linear_model import LogisticRegression\n",
    "log_reg = LogisticRegression(random_state=42, solver='liblinear')\n",
    "pipeline = transformaçao(log_reg)\n",
    "\n",
    "# Treinar o modelo com os dados de treino\n",
    "print(\"Treinando o modelo de Regressão Logística com solver 'liblinear'...\")\n",
    "pipeline.fit(X_train, y_train)\n",
    "print(\"Treinamento concluído!\")\n",
    "\n",
    "# Fazer previsões com os dados de teste\n",
    "y_pred_log_reg = pipeline.predict(X_test)"
   ]
  },
  {
   "cell_type": "code",
   "execution_count": 12,
   "id": "cd734302",
   "metadata": {},
   "outputs": [
    {
     "name": "stdout",
     "output_type": "stream",
     "text": [
      "\n",
      "Treinando o modelo de Random Forest...\n",
      "Treinamento concluído!\n"
     ]
    }
   ],
   "source": [
    "# Importando o modelo\n",
    "from sklearn.ensemble import RandomForestClassifier\n",
    "\n",
    "# Instanciar o modelo\n",
    "# n_estimators é o número de árvores na floresta\n",
    "rf_clf = RandomForestClassifier(n_estimators=100, random_state=42, max_depth=10)\n",
    "pipeline = transformaçao(rf_clf)\n",
    "\n",
    "# Treinar o modelo com os mesmos dados de treino\n",
    "print(\"\\nTreinando o modelo de Random Forest...\")\n",
    "pipeline.fit(X_train, y_train)\n",
    "print(\"Treinamento concluído!\")\n",
    "\n",
    "# Fazer previsões com os dados de teste\n",
    "y_pred_rf = pipeline.predict(X_test)"
   ]
  },
  {
   "cell_type": "code",
   "execution_count": 13,
   "id": "ee95c80d",
   "metadata": {},
   "outputs": [
    {
     "name": "stdout",
     "output_type": "stream",
     "text": [
      "\n",
      "Treinando o modelo de Random Forest...\n",
      "Treinamento concluído!\n"
     ]
    }
   ],
   "source": [
    "# Importando o modelo\n",
    "from sklearn.tree import DecisionTreeClassifier\n",
    "\n",
    "# Instanciar o modelo\n",
    "# n_estimators é o número de árvores na floresta\n",
    "arvore = DecisionTreeClassifier(random_state=42, max_depth=10)\n",
    "pipeline = transformaçao(arvore)\n",
    "\n",
    "# Treinar o modelo com os mesmos dados de treino\n",
    "print(\"\\nTreinando o modelo de Random Forest...\")\n",
    "pipeline.fit(X_train, y_train)\n",
    "print(\"Treinamento concluído!\")\n",
    "\n",
    "# Fazer previsões com os dados de teste\n",
    "y_pred_arvore = pipeline.predict(X_test)"
   ]
  },
  {
   "cell_type": "markdown",
   "id": "bf3751df",
   "metadata": {},
   "source": [
    "# Avaliação do modelo"
   ]
  },
  {
   "cell_type": "code",
   "execution_count": 14,
   "id": "ee73734a",
   "metadata": {},
   "outputs": [],
   "source": [
    "def confusao(y, y_pred, i):\n",
    "    matriz = confusion_matrix(y, y_pred)\n",
    "    # Visualizar com heatmap\n",
    "    sns.heatmap(matriz, annot=True, fmt='d', cmap='Greens',\n",
    "        xticklabels = ['VN', 'FP'],\n",
    "        yticklabels = ['FN', 'VF']      \n",
    "        )\n",
    "    plt.title(f'Matriz de Confusão da {i}')\n",
    "    plt.show()\n",
    "    \n",
    "def gerar_metricas(nome, modelo, X_test, y_test, y_pred):\n",
    "    from sklearn.metrics import accuracy_score, precision_score, recall_score, f1_score, confusion_matrix\n",
    "    cm = confusion_matrix(y_test, y_pred)\n",
    "    cm_str = f\"[[{cm[0][0]}, {cm[0][1]}], [{cm[1][0]}, {cm[1][1]}]]\"\n",
    "\n",
    "    return {\n",
    "        'Modelo': nome,\n",
    "        'Acurácia': accuracy_score(y_test, y_pred),\n",
    "        'Precisão': precision_score(y_test, y_pred),\n",
    "        'Recall': recall_score(y_test, y_pred),\n",
    "        'F1-Score': f1_score(y_test, y_pred),\n",
    "        'Matriz de Confusão': cm_str\n",
    "    }\n",
    "\n",
    "# Coletar métricas de todos os modelos\n",
    "resultados = [\n",
    "    gerar_metricas(\"Regressão Logística\", log_reg, X_test, y_test, y_pred_log_reg),\n",
    "    gerar_metricas(\"Random Forest\", rf_clf, X_test, y_test, y_pred_rf),\n",
    "    gerar_metricas(\"Árvore de Decisão\", arvore, X_test, y_test, y_pred_arvore)\n",
    "]\n",
    "# Criar DataFrame\n",
    "resultados = pd.DataFrame(resultados)\n",
    "resultados = resultados.sort_values(by='F1-Score', ascending=False)"
   ]
  },
  {
   "cell_type": "code",
   "execution_count": 15,
   "id": "746193b0",
   "metadata": {},
   "outputs": [
    {
     "data": {
      "image/png": "[encoded data removed]",
      "text/plain": [
       "<Figure size 640x480 with 2 Axes>"
      ]
     },
     "metadata": {},
     "output_type": "display_data"
    },
    {
     "data": {
      "image/png": "[encoded data removed]",
      "text/plain": [
       "<Figure size 640x480 with 2 Axes>"
      ]
     },
     "metadata": {},
     "output_type": "display_data"
    },
    {
     "data": {
      "image/png": "[encoded data removed]",
      "text/plain": [
       "<Figure size 640x480 with 2 Axes>"
      ]
     },
     "metadata": {},
     "output_type": "display_data"
    },
    {
     "data": {
      "text/html": [
       "<div>\n",
       "<style scoped>\n",
       "    .dataframe tbody tr th:only-of-type {\n",
       "        vertical-align: middle;\n",
       "    }\n",
       "\n",
       "    .dataframe tbody tr th {\n",
       "        vertical-align: top;\n",
       "    }\n",
       "\n",
       "    .dataframe thead th {\n",
       "        text-align: right;\n",
       "    }\n",
       "</style>\n",
       "<table border=\"1\" class=\"dataframe\">\n",
       "  <thead>\n",
       "    <tr style=\"text-align: right;\">\n",
       "      <th></th>\n",
       "      <th>Modelo</th>\n",
       "      <th>Acurácia</th>\n",
       "      <th>Precisão</th>\n",
       "      <th>Recall</th>\n",
       "      <th>F1-Score</th>\n",
       "      <th>Matriz de Confusão</th>\n",
       "    </tr>\n",
       "  </thead>\n",
       "  <tbody>\n",
       "    <tr>\n",
       "      <th>0</th>\n",
       "      <td>Regressão Logística</td>\n",
       "      <td>0.788189</td>\n",
       "      <td>0.632754</td>\n",
       "      <td>0.531250</td>\n",
       "      <td>0.577576</td>\n",
       "      <td>[[1133, 148], [225, 255]]</td>\n",
       "    </tr>\n",
       "    <tr>\n",
       "      <th>1</th>\n",
       "      <td>Random Forest</td>\n",
       "      <td>0.786485</td>\n",
       "      <td>0.630653</td>\n",
       "      <td>0.522917</td>\n",
       "      <td>0.571754</td>\n",
       "      <td>[[1134, 147], [229, 251]]</td>\n",
       "    </tr>\n",
       "    <tr>\n",
       "      <th>2</th>\n",
       "      <td>Árvore de Decisão</td>\n",
       "      <td>0.735945</td>\n",
       "      <td>0.517564</td>\n",
       "      <td>0.460417</td>\n",
       "      <td>0.487321</td>\n",
       "      <td>[[1075, 206], [259, 221]]</td>\n",
       "    </tr>\n",
       "  </tbody>\n",
       "</table>\n",
       "</div>"
      ],
      "text/plain": [
       "                Modelo  Acurácia  Precisão    Recall  F1-Score  \\\n",
       "0  Regressão Logística  0.788189  0.632754  0.531250  0.577576   \n",
       "1        Random Forest  0.786485  0.630653  0.522917  0.571754   \n",
       "2    Árvore de Decisão  0.735945  0.517564  0.460417  0.487321   \n",
       "\n",
       "          Matriz de Confusão  \n",
       "0  [[1133, 148], [225, 255]]  \n",
       "1  [[1134, 147], [229, 251]]  \n",
       "2  [[1075, 206], [259, 221]]  "
      ]
     },
     "execution_count": 15,
     "metadata": {},
     "output_type": "execute_result"
    }
   ],
   "source": [
    "confusao(y_test, y_pred_log_reg, \"Regressão Logística\")\n",
    "confusao(y_test, y_pred_rf, \"Random Forest Classifier\")\n",
    "confusao(y_test, y_pred_arvore, \"Árvore de decisão\")\n",
    "resultados"
   ]
  },
  {
   "cell_type": "markdown",
   "id": "8f362518",
   "metadata": {},
   "source": [
    "## Modelo escolhido foi **Regressão logistica**"
   ]
  },
  {
   "cell_type": "markdown",
   "id": "bbe031d7",
   "metadata": {},
   "source": [
    "### esse modelo foi escolhido devido a seus metricas **Acurácia: 0.80**, **Precisão: 0.64**, **Recall: 0.53**, **F1-Score: 0.58** \n",
    "- O modelo Random Forest, apesar de ter boa acurácia (79,27%), apresentou desempenho inferior na métrica recall, mostrando-se menos eficaz para o problema específico.\n",
    "- O modelo de Ávore de Decisão, apesar de ter uma acurácia de (75,80%), apresentou desempenho inferior na métricas de recall, F1-Score e precisão, mostrando-se menos eficaz para o problema específico.\n",
    "\n"
   ]
  }
 ],
 "metadata": {
  "kernelspec": {
   "display_name": "Python 3",
   "language": "python",
   "name": "python3"
  },
  "language_info": {
   "codemirror_mode": {
    "name": "ipython",
    "version": 3
   },
   "file_extension": ".py",
   "mimetype": "text/x-python",
   "name": "python",
   "nbconvert_exporter": "python",
   "pygments_lexer": "ipython3",
   "version": "3.11.9"
  }
 },
 "nbformat": 4,
 "nbformat_minor": 5
}
