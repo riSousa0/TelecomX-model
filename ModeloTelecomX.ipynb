{
 "cells": [
  {
   "cell_type": "markdown",
   "id": "84d91082",
   "metadata": {},
   "source": [
    "# TelecomX - Modelo para previnir evasão"
   ]
  },
  {
   "cell_type": "markdown",
   "id": "29dc8571",
   "metadata": {},
   "source": [
    "## Blibiotecas"
   ]
  },
  {
   "cell_type": "code",
   "execution_count": 40,
   "id": "3640d485",
   "metadata": {},
   "outputs": [],
   "source": [
    "import pandas as pd\n",
    "import numpy as np\n",
    "import matplotlib.pyplot as plt\n",
    "from sklearn.model_selection import train_test_split\n",
    "from sklearn.dummy import DummyRegressor\n",
    "from sklearn.metrics import root_mean_squared_error, mean_absolute_error, r2_score, accuracy_score, classification_report, confusion_matrix\n",
    "from sklearn.ensemble import RandomForestRegressor\n",
    "from sklearn.model_selection import GridSearchCV, KFold, cross_validate\n",
    "from sklearn.compose import make_column_transformer\n",
    "from sklearn.preprocessing import OneHotEncoder, LabelEncoder, StandardScaler\n",
    "from category_encoders import TargetEncoder\n",
    "from sklearn.preprocessing import FunctionTransformer\n",
    "from sklearn.pipeline import make_pipeline\n",
    "import seaborn as sns"
   ]
  },
  {
   "cell_type": "markdown",
   "id": "e3e63b4f",
   "metadata": {},
   "source": [
    "## Importação dados"
   ]
  },
  {
   "cell_type": "code",
   "execution_count": 41,
   "id": "8b9faa7e",
   "metadata": {},
   "outputs": [],
   "source": [
    "dados = pd.read_csv('Dados.csv')\n",
    "dados['Charges.Total'] = dados['Charges.Total'].replace(r'^\\s*$', 0, regex=True)\n",
    "dados['Charges.Total'] = dados['Charges.Total'].astype(\"float64\")\n",
    "dados = dados[~dados['Churn'].isna() & (dados['Churn'] != 'nan')]\n",
    "dados = dados.drop(columns=['Unnamed: 0', 'PaperlessBilling'])\n",
    "dados = dados[~dados['Churn'].isna() & (dados['Churn'] != 'nan')]\n"
   ]
  },
  {
   "cell_type": "code",
   "execution_count": 42,
   "id": "fbc27410",
   "metadata": {},
   "outputs": [
    {
     "data": {
      "text/html": [
       "<div>\n",
       "<style scoped>\n",
       "    .dataframe tbody tr th:only-of-type {\n",
       "        vertical-align: middle;\n",
       "    }\n",
       "\n",
       "    .dataframe tbody tr th {\n",
       "        vertical-align: top;\n",
       "    }\n",
       "\n",
       "    .dataframe thead th {\n",
       "        text-align: right;\n",
       "    }\n",
       "</style>\n",
       "<table border=\"1\" class=\"dataframe\">\n",
       "  <thead>\n",
       "    <tr style=\"text-align: right;\">\n",
       "      <th></th>\n",
       "      <th>SeniorCitizen</th>\n",
       "      <th>tenure</th>\n",
       "      <th>Charges.Monthly</th>\n",
       "      <th>Charges.Total</th>\n",
       "    </tr>\n",
       "  </thead>\n",
       "  <tbody>\n",
       "    <tr>\n",
       "      <th>SeniorCitizen</th>\n",
       "      <td>1.000000</td>\n",
       "      <td>0.016567</td>\n",
       "      <td>0.220173</td>\n",
       "      <td>0.103006</td>\n",
       "    </tr>\n",
       "    <tr>\n",
       "      <th>tenure</th>\n",
       "      <td>0.016567</td>\n",
       "      <td>1.000000</td>\n",
       "      <td>0.247900</td>\n",
       "      <td>0.826178</td>\n",
       "    </tr>\n",
       "    <tr>\n",
       "      <th>Charges.Monthly</th>\n",
       "      <td>0.220173</td>\n",
       "      <td>0.247900</td>\n",
       "      <td>1.000000</td>\n",
       "      <td>0.651174</td>\n",
       "    </tr>\n",
       "    <tr>\n",
       "      <th>Charges.Total</th>\n",
       "      <td>0.103006</td>\n",
       "      <td>0.826178</td>\n",
       "      <td>0.651174</td>\n",
       "      <td>1.000000</td>\n",
       "    </tr>\n",
       "  </tbody>\n",
       "</table>\n",
       "</div>"
      ],
      "text/plain": [
       "                 SeniorCitizen    tenure  Charges.Monthly  Charges.Total\n",
       "SeniorCitizen         1.000000  0.016567         0.220173       0.103006\n",
       "tenure                0.016567  1.000000         0.247900       0.826178\n",
       "Charges.Monthly       0.220173  0.247900         1.000000       0.651174\n",
       "Charges.Total         0.103006  0.826178         0.651174       1.000000"
      ]
     },
     "execution_count": 42,
     "metadata": {},
     "output_type": "execute_result"
    }
   ],
   "source": [
    "dados_numericos = dados.select_dtypes(include=['number', 'bool'])\n",
    "correlacao = dados_numericos.corr().abs()\n",
    "correlacao"
   ]
  },
  {
   "cell_type": "markdown",
   "id": "0515eb94",
   "metadata": {},
   "source": [
    "### Tratamento"
   ]
  },
  {
   "cell_type": "code",
   "execution_count": 43,
   "id": "4a51deab",
   "metadata": {},
   "outputs": [
    {
     "name": "stdout",
     "output_type": "stream",
     "text": [
      "\n",
      "Frequência de valores em: MultipleLines\n",
      "MultipleLines\n",
      "No                  3390\n",
      "Yes                 2971\n",
      "No phone service     682\n",
      "Name: count, dtype: int64\n",
      "\n",
      "Frequência de valores em: InternetService\n",
      "InternetService\n",
      "Fiber optic    3096\n",
      "DSL            2421\n",
      "No             1526\n",
      "Name: count, dtype: int64\n",
      "\n",
      "Frequência de valores em: OnlineSecurity\n",
      "OnlineSecurity\n",
      "No                     3498\n",
      "Yes                    2019\n",
      "No internet service    1526\n",
      "Name: count, dtype: int64\n",
      "\n",
      "Frequência de valores em: OnlineBackup\n",
      "OnlineBackup\n",
      "No                     3088\n",
      "Yes                    2429\n",
      "No internet service    1526\n",
      "Name: count, dtype: int64\n",
      "\n",
      "Frequência de valores em: DeviceProtection\n",
      "DeviceProtection\n",
      "No                     3095\n",
      "Yes                    2422\n",
      "No internet service    1526\n",
      "Name: count, dtype: int64\n",
      "\n",
      "Frequência de valores em: TechSupport\n",
      "TechSupport\n",
      "No                     3473\n",
      "Yes                    2044\n",
      "No internet service    1526\n",
      "Name: count, dtype: int64\n",
      "\n",
      "Frequência de valores em: StreamingTV\n",
      "StreamingTV\n",
      "No                     2810\n",
      "Yes                    2707\n",
      "No internet service    1526\n",
      "Name: count, dtype: int64\n",
      "\n",
      "Frequência de valores em: StreamingMovies\n",
      "StreamingMovies\n",
      "No                     2785\n",
      "Yes                    2732\n",
      "No internet service    1526\n",
      "Name: count, dtype: int64\n"
     ]
    }
   ],
   "source": [
    "variaveis = [\n",
    "    'MultipleLines',\n",
    "    'InternetService',\n",
    "    'OnlineSecurity',\n",
    "    'OnlineBackup',\n",
    "    'DeviceProtection',\n",
    "    'TechSupport',\n",
    "    'StreamingTV',\n",
    "    'StreamingMovies'\n",
    "]\n",
    "\n",
    "for coluna in variaveis:\n",
    "    print(f\"\\nFrequência de valores em: {coluna}\")\n",
    "    print(dados[coluna].value_counts())\n"
   ]
  },
  {
   "cell_type": "code",
   "execution_count": 44,
   "id": "ebcaecdf",
   "metadata": {},
   "outputs": [
    {
     "name": "stdout",
     "output_type": "stream",
     "text": [
      "\n",
      "Frequência de valores em: PaymentMethod\n",
      "PaymentMethod\n",
      "Electronic check             2365\n",
      "Mailed check                 1612\n",
      "Bank transfer (automatic)    1544\n",
      "Credit card (automatic)      1522\n",
      "Name: count, dtype: int64\n"
     ]
    }
   ],
   "source": [
    "variaveis = [\n",
    "    'PaymentMethod'\n",
    "\n",
    "]\n",
    "\n",
    "for coluna in variaveis:\n",
    "    print(f\"\\nFrequência de valores em: {coluna}\")\n",
    "    print(dados[coluna].value_counts())"
   ]
  },
  {
   "cell_type": "code",
   "execution_count": 45,
   "id": "02625dd4",
   "metadata": {},
   "outputs": [],
   "source": [
    "dadost = dados.copy()"
   ]
  },
  {
   "cell_type": "code",
   "execution_count": 46,
   "id": "c611ae24",
   "metadata": {},
   "outputs": [
    {
     "data": {
      "text/html": [
       "<div>\n",
       "<style scoped>\n",
       "    .dataframe tbody tr th:only-of-type {\n",
       "        vertical-align: middle;\n",
       "    }\n",
       "\n",
       "    .dataframe tbody tr th {\n",
       "        vertical-align: top;\n",
       "    }\n",
       "\n",
       "    .dataframe thead th {\n",
       "        text-align: right;\n",
       "    }\n",
       "</style>\n",
       "<table border=\"1\" class=\"dataframe\">\n",
       "  <thead>\n",
       "    <tr style=\"text-align: right;\">\n",
       "      <th></th>\n",
       "      <th>SeniorCitizen</th>\n",
       "      <th>tenure</th>\n",
       "      <th>Charges.Monthly</th>\n",
       "      <th>Charges.Total</th>\n",
       "    </tr>\n",
       "  </thead>\n",
       "  <tbody>\n",
       "    <tr>\n",
       "      <th>SeniorCitizen</th>\n",
       "      <td>1.000000</td>\n",
       "      <td>0.016567</td>\n",
       "      <td>0.220173</td>\n",
       "      <td>0.103006</td>\n",
       "    </tr>\n",
       "    <tr>\n",
       "      <th>tenure</th>\n",
       "      <td>0.016567</td>\n",
       "      <td>1.000000</td>\n",
       "      <td>0.247900</td>\n",
       "      <td>0.826178</td>\n",
       "    </tr>\n",
       "    <tr>\n",
       "      <th>Charges.Monthly</th>\n",
       "      <td>0.220173</td>\n",
       "      <td>0.247900</td>\n",
       "      <td>1.000000</td>\n",
       "      <td>0.651174</td>\n",
       "    </tr>\n",
       "    <tr>\n",
       "      <th>Charges.Total</th>\n",
       "      <td>0.103006</td>\n",
       "      <td>0.826178</td>\n",
       "      <td>0.651174</td>\n",
       "      <td>1.000000</td>\n",
       "    </tr>\n",
       "  </tbody>\n",
       "</table>\n",
       "</div>"
      ],
      "text/plain": [
       "                 SeniorCitizen    tenure  Charges.Monthly  Charges.Total\n",
       "SeniorCitizen         1.000000  0.016567         0.220173       0.103006\n",
       "tenure                0.016567  1.000000         0.247900       0.826178\n",
       "Charges.Monthly       0.220173  0.247900         1.000000       0.651174\n",
       "Charges.Total         0.103006  0.826178         0.651174       1.000000"
      ]
     },
     "execution_count": 46,
     "metadata": {},
     "output_type": "execute_result"
    }
   ],
   "source": [
    "dados_numericos = dadost.select_dtypes(include=['number', 'bool'])\n",
    "dados_numericos.corr()"
   ]
  },
  {
   "cell_type": "markdown",
   "id": "38e75cd7",
   "metadata": {},
   "source": [
    "## Encording - Pipeline"
   ]
  },
  {
   "cell_type": "code",
   "execution_count": 47,
   "id": "607e52a6",
   "metadata": {},
   "outputs": [
    {
     "data": {
      "text/plain": [
       "Index(['Churn', 'gender', 'SeniorCitizen', 'Partner', 'Dependents', 'tenure',\n",
       "       'Contract', 'PaymentMethod', 'Charges.Monthly', 'Charges.Total',\n",
       "       'PhoneService', 'MultipleLines', 'InternetService', 'OnlineSecurity',\n",
       "       'OnlineBackup', 'DeviceProtection', 'TechSupport', 'StreamingTV',\n",
       "       'StreamingMovies'],\n",
       "      dtype='object')"
      ]
     },
     "execution_count": 47,
     "metadata": {},
     "output_type": "execute_result"
    }
   ],
   "source": [
    "dadost.columns"
   ]
  },
  {
   "cell_type": "code",
   "execution_count": 48,
   "id": "953430b0",
   "metadata": {},
   "outputs": [],
   "source": [
    "transformer = make_column_transformer(\n",
    "    # Codificação categórica com TargetEncoder\n",
    "    (OneHotEncoder(), ['gender', 'Partner', 'Dependents', 'Contract',\n",
    "                       'PaymentMethod', 'PhoneService', 'MultipleLines',\n",
    "                       'InternetService', 'OnlineSecurity', 'OnlineBackup',\n",
    "                       'DeviceProtection', 'TechSupport', 'StreamingTV',\n",
    "                       'StreamingMovies', 'SeniorCitizen']),\n",
    "    \n",
    "    # Padronização das variáveis numéricas\n",
    "    (StandardScaler(), ['tenure', 'Charges.Monthly', 'Charges.Total']),\n",
    ")\n",
    "label_encoder = LabelEncoder()"
   ]
  },
  {
   "cell_type": "code",
   "execution_count": 49,
   "id": "481d48e0",
   "metadata": {},
   "outputs": [],
   "source": [
    "x = dadost.drop(columns=\"Churn\")\n",
    "y = dadost['Churn']\n",
    "y = label_encoder.fit_transform(y)\n",
    "x = transformer.fit_transform(x)\n"
   ]
  },
  {
   "cell_type": "code",
   "execution_count": 50,
   "id": "9a75594c",
   "metadata": {},
   "outputs": [],
   "source": [
    "encoder = transformer.named_transformers_['onehotencoder']  # se tiver nomeado\n",
    "# ou, se não tiver nomeado, usa o índice (geralmente o primeiro):\n",
    "encoder = transformer.transformers_[0][1]\n",
    "nomes_onehot = encoder.get_feature_names_out(['gender', 'Partner', 'Dependents', 'Contract',\n",
    "                                               'PaymentMethod', 'PhoneService', 'MultipleLines',\n",
    "                                               'InternetService', 'OnlineSecurity', 'OnlineBackup',\n",
    "                                               'DeviceProtection', 'TechSupport', 'StreamingTV',\n",
    "                                               'StreamingMovies', 'SeniorCitizen'])\n",
    "df_transformado = pd.DataFrame(x, columns=nomes_onehot.tolist() + ['tenure', 'Charges.Monthly', 'Charges.Total'])\n",
    "\n",
    "\n"
   ]
  },
  {
   "cell_type": "markdown",
   "id": "70407b43",
   "metadata": {},
   "source": [
    "## Modelo"
   ]
  },
  {
   "cell_type": "markdown",
   "id": "e20ba263",
   "metadata": {},
   "source": [
    "### Metricas - **Recall (Revocação)**, **Precisão**, **F1-Score**"
   ]
  },
  {
   "cell_type": "code",
   "execution_count": 51,
   "id": "8d1a22b2",
   "metadata": {},
   "outputs": [
    {
     "name": "stdout",
     "output_type": "stream",
     "text": [
      "Treinando o modelo de Regressão Logística com solver 'liblinear'...\n",
      "Treinamento concluído!\n"
     ]
    }
   ],
   "source": [
    "X_train, X_test, y_train, y_test = train_test_split(x, y, random_state=42)\n",
    "# Importando o modelo\n",
    "from sklearn.linear_model import LogisticRegression\n",
    "log_reg = LogisticRegression(random_state=42, solver='liblinear')\n",
    "\n",
    "\n",
    "# Treinar o modelo com os dados de treino\n",
    "print(\"Treinando o modelo de Regressão Logística com solver 'liblinear'...\")\n",
    "log_reg.fit(X_train, y_train)\n",
    "print(\"Treinamento concluído!\")\n",
    "\n",
    "# Fazer previsões com os dados de teste\n",
    "y_pred_log_reg = log_reg.predict(X_test)"
   ]
  },
  {
   "cell_type": "code",
   "execution_count": 52,
   "id": "cd734302",
   "metadata": {},
   "outputs": [
    {
     "name": "stdout",
     "output_type": "stream",
     "text": [
      "\n",
      "Treinando o modelo de Random Forest...\n",
      "Treinamento concluído!\n"
     ]
    }
   ],
   "source": [
    "# Importando o modelo\n",
    "from sklearn.ensemble import RandomForestClassifier\n",
    "\n",
    "# Instanciar o modelo\n",
    "# n_estimators é o número de árvores na floresta\n",
    "rf_clf = RandomForestClassifier(n_estimators=100, random_state=42, max_depth=10)\n",
    "\n",
    "\n",
    "# Treinar o modelo com os mesmos dados de treino\n",
    "print(\"\\nTreinando o modelo de Random Forest...\")\n",
    "rf_clf.fit(X_train, y_train)\n",
    "print(\"Treinamento concluído!\")\n",
    "\n",
    "# Fazer previsões com os dados de teste\n",
    "y_pred_rf = rf_clf.predict(X_test)"
   ]
  },
  {
   "cell_type": "code",
   "execution_count": 53,
   "id": "ee95c80d",
   "metadata": {},
   "outputs": [
    {
     "name": "stdout",
     "output_type": "stream",
     "text": [
      "\n",
      "Treinando o modelo de Random Forest...\n",
      "Treinamento concluído!\n"
     ]
    }
   ],
   "source": [
    "# Importando o modelo\n",
    "from sklearn.tree import DecisionTreeClassifier\n",
    "\n",
    "# Instanciar o modelo\n",
    "# n_estimators é o número de árvores na floresta\n",
    "arvore = DecisionTreeClassifier(random_state=42, max_depth=10)\n",
    "\n",
    "\n",
    "# Treinar o modelo com os mesmos dados de treino\n",
    "print(\"\\nTreinando o modelo de Random Forest...\")\n",
    "arvore.fit(X_train, y_train)\n",
    "print(\"Treinamento concluído!\")\n",
    "\n",
    "# Fazer previsões com os dados de teste\n",
    "y_pred_arvore = arvore.predict(X_test)"
   ]
  },
  {
   "cell_type": "markdown",
   "id": "bf3751df",
   "metadata": {},
   "source": [
    "# Avaliação do modelo"
   ]
  },
  {
   "cell_type": "code",
   "execution_count": 54,
   "id": "ee73734a",
   "metadata": {},
   "outputs": [],
   "source": [
    "def confusao(y, y_pred, i):\n",
    "    matriz = confusion_matrix(y, y_pred)\n",
    "    # Visualizar com heatmap\n",
    "    sns.heatmap(matriz, annot=True, fmt='d', cmap='Greens',\n",
    "        xticklabels = ['VN', 'FP'],\n",
    "        yticklabels = ['FN', 'VF']      \n",
    "        )\n",
    "    plt.title(f'Matriz de Confusão da {i}')\n",
    "    plt.show()\n",
    "    \n",
    "def gerar_metricas(nome, modelo, X_test, y_test, y_pred):\n",
    "    from sklearn.metrics import accuracy_score, precision_score, recall_score, f1_score, confusion_matrix\n",
    "    cm = confusion_matrix(y_test, y_pred)\n",
    "    cm_str = f\"[[{cm[0][0]}, {cm[0][1]}], [{cm[1][0]}, {cm[1][1]}]]\"\n",
    "\n",
    "    return {\n",
    "        'Modelo': nome,\n",
    "        'Acurácia': accuracy_score(y_test, y_pred),\n",
    "        'Precisão': precision_score(y_test, y_pred),\n",
    "        'Recall': recall_score(y_test, y_pred),\n",
    "        'F1-Score': f1_score(y_test, y_pred),\n",
    "        'Matriz de Confusão': cm_str\n",
    "    }\n",
    "\n",
    "\n",
    "resultados = [\n",
    "    gerar_metricas(\"Regressão Logística\", log_reg, X_test, y_test, y_pred_log_reg),\n",
    "    gerar_metricas(\"Random Forest\", rf_clf, X_test, y_test, y_pred_rf),\n",
    "    gerar_metricas(\"Árvore de Decisão\", arvore, X_test, y_test, y_pred_arvore)\n",
    "]\n",
    "# Criar DataFrame\n",
    "resultados = pd.DataFrame(resultados)\n",
    "resultados = resultados.sort_values(by='F1-Score', ascending=False)"
   ]
  },
  {
   "cell_type": "code",
   "execution_count": 55,
   "id": "746193b0",
   "metadata": {},
   "outputs": [
    {
     "data": {
      "image/png": "[encoded data removed]",
      "text/plain": [
       "<Figure size 640x480 with 2 Axes>"
      ]
     },
     "metadata": {},
     "output_type": "display_data"
    },
    {
     "data": {
      "image/png": "[encoded data removed]",
      "text/plain": [
       "<Figure size 640x480 with 2 Axes>"
      ]
     },
     "metadata": {},
     "output_type": "display_data"
    },
    {
     "data": {
      "image/png": "[encoded data removed]",
      "text/plain": [
       "<Figure size 640x480 with 2 Axes>"
      ]
     },
     "metadata": {},
     "output_type": "display_data"
    },
    {
     "data": {
      "text/html": [
       "<div>\n",
       "<style scoped>\n",
       "    .dataframe tbody tr th:only-of-type {\n",
       "        vertical-align: middle;\n",
       "    }\n",
       "\n",
       "    .dataframe tbody tr th {\n",
       "        vertical-align: top;\n",
       "    }\n",
       "\n",
       "    .dataframe thead th {\n",
       "        text-align: right;\n",
       "    }\n",
       "</style>\n",
       "<table border=\"1\" class=\"dataframe\">\n",
       "  <thead>\n",
       "    <tr style=\"text-align: right;\">\n",
       "      <th></th>\n",
       "      <th>Modelo</th>\n",
       "      <th>Acurácia</th>\n",
       "      <th>Precisão</th>\n",
       "      <th>Recall</th>\n",
       "      <th>F1-Score</th>\n",
       "      <th>Matriz de Confusão</th>\n",
       "    </tr>\n",
       "  </thead>\n",
       "  <tbody>\n",
       "    <tr>\n",
       "      <th>0</th>\n",
       "      <td>Regressão Logística</td>\n",
       "      <td>0.810903</td>\n",
       "      <td>0.664083</td>\n",
       "      <td>0.558696</td>\n",
       "      <td>0.606848</td>\n",
       "      <td>[[1171, 130], [203, 257]]</td>\n",
       "    </tr>\n",
       "    <tr>\n",
       "      <th>1</th>\n",
       "      <td>Random Forest</td>\n",
       "      <td>0.801817</td>\n",
       "      <td>0.659026</td>\n",
       "      <td>0.500000</td>\n",
       "      <td>0.568603</td>\n",
       "      <td>[[1182, 119], [230, 230]]</td>\n",
       "    </tr>\n",
       "    <tr>\n",
       "      <th>2</th>\n",
       "      <td>Árvore de Decisão</td>\n",
       "      <td>0.753549</td>\n",
       "      <td>0.531553</td>\n",
       "      <td>0.476087</td>\n",
       "      <td>0.502294</td>\n",
       "      <td>[[1108, 193], [241, 219]]</td>\n",
       "    </tr>\n",
       "  </tbody>\n",
       "</table>\n",
       "</div>"
      ],
      "text/plain": [
       "                Modelo  Acurácia  Precisão    Recall  F1-Score  \\\n",
       "0  Regressão Logística  0.810903  0.664083  0.558696  0.606848   \n",
       "1        Random Forest  0.801817  0.659026  0.500000  0.568603   \n",
       "2    Árvore de Decisão  0.753549  0.531553  0.476087  0.502294   \n",
       "\n",
       "          Matriz de Confusão  \n",
       "0  [[1171, 130], [203, 257]]  \n",
       "1  [[1182, 119], [230, 230]]  \n",
       "2  [[1108, 193], [241, 219]]  "
      ]
     },
     "execution_count": 55,
     "metadata": {},
     "output_type": "execute_result"
    }
   ],
   "source": [
    "confusao(y_test, y_pred_log_reg, \"Regressão Logística\")\n",
    "confusao(y_test, y_pred_rf, \"Random Forest Classifier\")\n",
    "confusao(y_test, y_pred_arvore, \"Árvore de decisão\")\n",
    "resultados"
   ]
  },
  {
   "cell_type": "code",
   "execution_count": 56,
   "id": "a8c098ae",
   "metadata": {},
   "outputs": [
    {
     "data": {
      "text/html": [
       "<div>\n",
       "<style scoped>\n",
       "    .dataframe tbody tr th:only-of-type {\n",
       "        vertical-align: middle;\n",
       "    }\n",
       "\n",
       "    .dataframe tbody tr th {\n",
       "        vertical-align: top;\n",
       "    }\n",
       "\n",
       "    .dataframe thead th {\n",
       "        text-align: right;\n",
       "    }\n",
       "</style>\n",
       "<table border=\"1\" class=\"dataframe\">\n",
       "  <thead>\n",
       "    <tr style=\"text-align: right;\">\n",
       "      <th></th>\n",
       "      <th>Variável</th>\n",
       "      <th>Importância</th>\n",
       "    </tr>\n",
       "  </thead>\n",
       "  <tbody>\n",
       "    <tr>\n",
       "      <th>43</th>\n",
       "      <td>Charges.Total</td>\n",
       "      <td>0.749945</td>\n",
       "    </tr>\n",
       "    <tr>\n",
       "      <th>6</th>\n",
       "      <td>Contract_Month-to-month</td>\n",
       "      <td>0.671095</td>\n",
       "    </tr>\n",
       "    <tr>\n",
       "      <th>19</th>\n",
       "      <td>InternetService_Fiber optic</td>\n",
       "      <td>0.405166</td>\n",
       "    </tr>\n",
       "    <tr>\n",
       "      <th>11</th>\n",
       "      <td>PaymentMethod_Electronic check</td>\n",
       "      <td>0.220159</td>\n",
       "    </tr>\n",
       "  </tbody>\n",
       "</table>\n",
       "</div>"
      ],
      "text/plain": [
       "                          Variável  Importância\n",
       "43                   Charges.Total     0.749945\n",
       "6          Contract_Month-to-month     0.671095\n",
       "19     InternetService_Fiber optic     0.405166\n",
       "11  PaymentMethod_Electronic check     0.220159"
      ]
     },
     "execution_count": 56,
     "metadata": {},
     "output_type": "execute_result"
    }
   ],
   "source": [
    "coeficientes = pd.DataFrame({\n",
    "    'Variável': df_transformado.columns,\n",
    "    'Importância': log_reg.coef_[0]\n",
    "}).sort_values(by='Importância', ascending=False)\n",
    "coeficientes_top4 = coeficientes.head(4)\n",
    "coeficientes_top4\n",
    "\n"
   ]
  },
  {
   "cell_type": "markdown",
   "id": "bbe031d7",
   "metadata": {},
   "source": [
    "##  Modelo escolhido: **Regressão Logística**\n",
    "\n",
    "### Justificativa\n",
    "\n",
    "O modelo de **Regressão Logística** apresentou o melhor equilíbrio entre todas as métricas principais:\n",
    "\n",
    "- **Acurácia:** 0.81  \n",
    "- **Precisão:** 0.66  \n",
    "- **Recall:** 0.56  \n",
    "- **F1-Score:** 0.61  \n",
    "\n",
    "Esses resultados indicam que o modelo tem boa capacidade de identificar corretamente os casos de evasão (recall), sem comprometer demais a precisão e o desempenho geral. Além disso, seu comportamento é interpretável, permitindo identificar os principais fatores que influenciam a evasão.\n",
    "\n",
    "---\n",
    "\n",
    "##  Principais Variáveis para Regressão Logística\n",
    "\n",
    "A seguir, as variáveis que mais impactaram nas previsões de evasão segundo a análise de importância:\n",
    "\n",
    "| Variável                         | Importância |\n",
    "|----------------------------------|-------------|\n",
    "| Charges.Total                    | 0.749945    |\n",
    "| Contract_Month-to-month          | 0.671095    |\n",
    "| InternetService_Fiber optic      | 0.405166    |\n",
    "| PaymentMethod_Electronic check   | 0.220159    |\n",
    "\n",
    "Essas variáveis indicam que clientes com contratos mensais, alto valor total de cobrança, internet via fibra óptica e pagamento via débito eletrônico são mais propensos à evasão. Essas informações são valiosas para criar campanhas de retenção direcionadas.\n",
    "\n",
    "---\n",
    "\n",
    "##  Comparações entre Modelos\n",
    "\n",
    "-  **Random Forest**: Boa acurácia (**80,18%**), mas **Recall (50%)** abaixo do ideal, o que reduz sua efetividade para detectar clientes evadidos.\n",
    "-  **Árvore de Decisão**: Desempenho inferior nas quatro métricas principais, com destaque negativo para o **Recall (47,61%)** e **F1-Score (50,22%)**.\n",
    "\n",
    "---\n",
    "\n",
    "## 📢Conclusão\n",
    "\n",
    "A **Regressão Logística** se manteve como a melhor escolha, oferecendo o melhor desempenho geral e insights interpretáveis sobre as variáveis mais influentes na evasão. Essa escolha permite combinar alta acurácia com compreensão clara dos fatores que afetam o comportamento do cliente — um diferencial estratégico para retenção.\n"
   ]
  },
  {
   "cell_type": "code",
   "execution_count": null,
   "id": "2d316653",
   "metadata": {},
   "outputs": [],
   "source": []
  },
  {
   "cell_type": "code",
   "execution_count": null,
   "id": "e4106367",
   "metadata": {},
   "outputs": [],
   "source": []
  }
 ],
 "metadata": {
  "kernelspec": {
   "display_name": "Python 3",
   "language": "python",
   "name": "python3"
  },
  "language_info": {
   "codemirror_mode": {
    "name": "ipython",
    "version": 3
   },
   "file_extension": ".py",
   "mimetype": "text/x-python",
   "name": "python",
   "nbconvert_exporter": "python",
   "pygments_lexer": "ipython3",
   "version": "3.11.9"
  }
 },
 "nbformat": 4,
 "nbformat_minor": 5
}
